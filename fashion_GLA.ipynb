{
 "cells": [
  {
   "cell_type": "code",
   "execution_count": 4,
   "metadata": {},
   "outputs": [],
   "source": [
    "import pandas as pd\n",
    "import numpy as np\n",
    "import matplotlib.pyplot as plt\n",
    "import seaborn as sns\n",
    "from sklearn.neighbors import KNeighborsClassifier\n",
    "from sklearn.tree import DecisionTreeClassifier\n",
    "from sklearn.model_selection import train_test_split, cross_val_score, GridSearchCV, KFold, RandomizedSearchCV\n",
    "from sklearn.metrics import classification_report, accuracy_score\n",
    " "
   ]
  },
  {
   "cell_type": "code",
   "execution_count": 5,
   "metadata": {},
   "outputs": [
    {
     "data": {
      "text/html": [
       "<div>\n",
       "<style scoped>\n",
       "    .dataframe tbody tr th:only-of-type {\n",
       "        vertical-align: middle;\n",
       "    }\n",
       "\n",
       "    .dataframe tbody tr th {\n",
       "        vertical-align: top;\n",
       "    }\n",
       "\n",
       "    .dataframe thead th {\n",
       "        text-align: right;\n",
       "    }\n",
       "</style>\n",
       "<table border=\"1\" class=\"dataframe\">\n",
       "  <thead>\n",
       "    <tr style=\"text-align: right;\">\n",
       "      <th></th>\n",
       "      <th>label</th>\n",
       "      <th>pixel1</th>\n",
       "      <th>pixel2</th>\n",
       "      <th>pixel3</th>\n",
       "      <th>pixel4</th>\n",
       "      <th>pixel5</th>\n",
       "      <th>pixel6</th>\n",
       "      <th>pixel7</th>\n",
       "      <th>pixel8</th>\n",
       "      <th>pixel9</th>\n",
       "      <th>...</th>\n",
       "      <th>pixel775</th>\n",
       "      <th>pixel776</th>\n",
       "      <th>pixel777</th>\n",
       "      <th>pixel778</th>\n",
       "      <th>pixel779</th>\n",
       "      <th>pixel780</th>\n",
       "      <th>pixel781</th>\n",
       "      <th>pixel782</th>\n",
       "      <th>pixel783</th>\n",
       "      <th>pixel784</th>\n",
       "    </tr>\n",
       "  </thead>\n",
       "  <tbody>\n",
       "    <tr>\n",
       "      <th>0</th>\n",
       "      <td>2</td>\n",
       "      <td>0</td>\n",
       "      <td>0</td>\n",
       "      <td>0</td>\n",
       "      <td>0</td>\n",
       "      <td>0</td>\n",
       "      <td>0</td>\n",
       "      <td>0</td>\n",
       "      <td>0</td>\n",
       "      <td>0</td>\n",
       "      <td>...</td>\n",
       "      <td>0</td>\n",
       "      <td>0</td>\n",
       "      <td>0</td>\n",
       "      <td>0</td>\n",
       "      <td>0</td>\n",
       "      <td>0</td>\n",
       "      <td>0</td>\n",
       "      <td>0</td>\n",
       "      <td>0</td>\n",
       "      <td>0</td>\n",
       "    </tr>\n",
       "    <tr>\n",
       "      <th>1</th>\n",
       "      <td>9</td>\n",
       "      <td>0</td>\n",
       "      <td>0</td>\n",
       "      <td>0</td>\n",
       "      <td>0</td>\n",
       "      <td>0</td>\n",
       "      <td>0</td>\n",
       "      <td>0</td>\n",
       "      <td>0</td>\n",
       "      <td>0</td>\n",
       "      <td>...</td>\n",
       "      <td>0</td>\n",
       "      <td>0</td>\n",
       "      <td>0</td>\n",
       "      <td>0</td>\n",
       "      <td>0</td>\n",
       "      <td>0</td>\n",
       "      <td>0</td>\n",
       "      <td>0</td>\n",
       "      <td>0</td>\n",
       "      <td>0</td>\n",
       "    </tr>\n",
       "    <tr>\n",
       "      <th>2</th>\n",
       "      <td>6</td>\n",
       "      <td>0</td>\n",
       "      <td>0</td>\n",
       "      <td>0</td>\n",
       "      <td>0</td>\n",
       "      <td>0</td>\n",
       "      <td>0</td>\n",
       "      <td>0</td>\n",
       "      <td>5</td>\n",
       "      <td>0</td>\n",
       "      <td>...</td>\n",
       "      <td>0</td>\n",
       "      <td>0</td>\n",
       "      <td>0</td>\n",
       "      <td>30</td>\n",
       "      <td>43</td>\n",
       "      <td>0</td>\n",
       "      <td>0</td>\n",
       "      <td>0</td>\n",
       "      <td>0</td>\n",
       "      <td>0</td>\n",
       "    </tr>\n",
       "    <tr>\n",
       "      <th>3</th>\n",
       "      <td>0</td>\n",
       "      <td>0</td>\n",
       "      <td>0</td>\n",
       "      <td>0</td>\n",
       "      <td>1</td>\n",
       "      <td>2</td>\n",
       "      <td>0</td>\n",
       "      <td>0</td>\n",
       "      <td>0</td>\n",
       "      <td>0</td>\n",
       "      <td>...</td>\n",
       "      <td>3</td>\n",
       "      <td>0</td>\n",
       "      <td>0</td>\n",
       "      <td>0</td>\n",
       "      <td>0</td>\n",
       "      <td>1</td>\n",
       "      <td>0</td>\n",
       "      <td>0</td>\n",
       "      <td>0</td>\n",
       "      <td>0</td>\n",
       "    </tr>\n",
       "    <tr>\n",
       "      <th>4</th>\n",
       "      <td>3</td>\n",
       "      <td>0</td>\n",
       "      <td>0</td>\n",
       "      <td>0</td>\n",
       "      <td>0</td>\n",
       "      <td>0</td>\n",
       "      <td>0</td>\n",
       "      <td>0</td>\n",
       "      <td>0</td>\n",
       "      <td>0</td>\n",
       "      <td>...</td>\n",
       "      <td>0</td>\n",
       "      <td>0</td>\n",
       "      <td>0</td>\n",
       "      <td>0</td>\n",
       "      <td>0</td>\n",
       "      <td>0</td>\n",
       "      <td>0</td>\n",
       "      <td>0</td>\n",
       "      <td>0</td>\n",
       "      <td>0</td>\n",
       "    </tr>\n",
       "  </tbody>\n",
       "</table>\n",
       "<p>5 rows × 785 columns</p>\n",
       "</div>"
      ],
      "text/plain": [
       "   label  pixel1  pixel2  pixel3  pixel4  pixel5  pixel6  pixel7  pixel8  \\\n",
       "0      2       0       0       0       0       0       0       0       0   \n",
       "1      9       0       0       0       0       0       0       0       0   \n",
       "2      6       0       0       0       0       0       0       0       5   \n",
       "3      0       0       0       0       1       2       0       0       0   \n",
       "4      3       0       0       0       0       0       0       0       0   \n",
       "\n",
       "   pixel9  ...  pixel775  pixel776  pixel777  pixel778  pixel779  pixel780  \\\n",
       "0       0  ...         0         0         0         0         0         0   \n",
       "1       0  ...         0         0         0         0         0         0   \n",
       "2       0  ...         0         0         0        30        43         0   \n",
       "3       0  ...         3         0         0         0         0         1   \n",
       "4       0  ...         0         0         0         0         0         0   \n",
       "\n",
       "   pixel781  pixel782  pixel783  pixel784  \n",
       "0         0         0         0         0  \n",
       "1         0         0         0         0  \n",
       "2         0         0         0         0  \n",
       "3         0         0         0         0  \n",
       "4         0         0         0         0  \n",
       "\n",
       "[5 rows x 785 columns]"
      ]
     },
     "execution_count": 5,
     "metadata": {},
     "output_type": "execute_result"
    }
   ],
   "source": [
    "path = \"fashion-mnist.csv\"\n",
    "path_test = \"fashion-mnist_test.csv\"\n",
    "\n",
    "df = pd.read_csv(path) #Dataset dado por la catedra\n",
    "df_test = pd.read_csv(path_test) #Dataset de testeo\n",
    "df.head()"
   ]
  },
  {
   "cell_type": "markdown",
   "metadata": {},
   "source": [
    "## Funciones"
   ]
  },
  {
   "cell_type": "markdown",
   "metadata": {},
   "source": [
    "Funcion para ver alguna imagen de la clase elegida"
   ]
  },
  {
   "cell_type": "code",
   "execution_count": 6,
   "metadata": {},
   "outputs": [
    {
     "data": {
      "image/png": "[encoded data removed]",
      "text/plain": [
       "<Figure size 640x480 with 1 Axes>"
      ]
     },
     "metadata": {},
     "output_type": "display_data"
    }
   ],
   "source": [
    "def mostrarImagenDe (label: int):\n",
    "    clase = df[df['label'] == label].drop(columns='label')\n",
    "    imagen = clase.iloc[np.random.randint(0,6000)].values.reshape(28,28)\n",
    "    sns.heatmap(data=imagen, cmap='gray',cbar=False, square=True,annot=False,xticklabels=[],yticklabels=[])\n",
    "    plt.show()\n",
    "    plt.close()\n",
    "\n",
    "mostrarImagenDe(0)"
   ]
  },
  {
   "cell_type": "markdown",
   "metadata": {},
   "source": [
    "Funcion que me devuelve la imagen promedio de una clase en particular"
   ]
  },
  {
   "cell_type": "code",
   "execution_count": 7,
   "metadata": {},
   "outputs": [
    {
     "data": {
      "image/png": "[encoded data removed]",
      "text/plain": [
       "<Figure size 640x480 with 1 Axes>"
      ]
     },
     "metadata": {},
     "output_type": "display_data"
    }
   ],
   "source": [
    "def promedioImagen(prenda:int):\n",
    "    clase = df[df['label']== prenda].drop(columns='label')\n",
    "    promedio_imagen = np.mean(clase.values,axis=0)\n",
    "    promedio_imagen /= len(df[df['label']  ==1])\n",
    "    promedio_imagen = promedio_imagen.reshape(28,28)\n",
    "    sns.heatmap(data=promedio_imagen, cmap='gray',cbar=False, xticklabels=[],yticklabels=[])\n",
    "    \n",
    "promedioImagen(5)"
   ]
  },
  {
   "cell_type": "markdown",
   "metadata": {},
   "source": [
    "Graficar Scores"
   ]
  },
  {
   "cell_type": "code",
   "execution_count": 8,
   "metadata": {},
   "outputs": [],
   "source": [
    "def graficarScores(scores1, scores2,k):\n",
    "    k_fold = [f'Pliegue {i+1}' for i in range(k)]*2\n",
    "    data = {\n",
    "        'Fold': k_fold,\n",
    "        'Modelo': ['Remeras y Pantalones']*k + ['Remeras y Pullovers']*k,\n",
    "        'Precisión': np.concatenate((scores1,scores2))\n",
    "    }\n",
    "    df = pd.DataFrame(data)\n",
    "\n",
    "    sns.barplot(data=df,x='Fold',y='Precisión', hue='Modelo')\n",
    "    plt.xlabel('Plieges')\n",
    "    plt.ylabel('Precisión')\n",
    "    plt.title('Compararion de precisión entres remeras con pantalones y remeras con pullovers')\n",
    "    plt.legend(title='Modelos')\n",
    "    plt.show()\n",
    "    plt.close()"
   ]
  },
  {
   "cell_type": "markdown",
   "metadata": {},
   "source": [
    "Validacion Cruzada"
   ]
  },
  {
   "cell_type": "code",
   "execution_count": 9,
   "metadata": {},
   "outputs": [],
   "source": [
    "def validacion_cruzada(model,X,Y,K):\n",
    "    cv = KFold(n_splits=K,shuffle=True,random_state=42)\n",
    "    scores = cross_val_score(model,X,Y, cv=cv, scoring='accuracy')\n",
    "    return scores"
   ]
  },
  {
   "cell_type": "markdown",
   "metadata": {},
   "source": [
    "Testeo de modelos segun set de datos de entrenamiento"
   ]
  },
  {
   "cell_type": "code",
   "execution_count": 10,
   "metadata": {},
   "outputs": [],
   "source": [
    "def testearModelo (modelo,x,y):\n",
    "    x_train, x_val, y_train, y_val = train_test_split(x,y,test_size=0.2, shuffle=True) #Aca separo el dataset en train y val\n",
    "    modelo.fit(x_train, y_train)\n",
    "    y_predict = modelo.predict(x_val)\n",
    "    return accuracy_score(y_val,y_predict)"
   ]
  },
  {
   "cell_type": "markdown",
   "metadata": {},
   "source": [
    "Calibracion de modelos"
   ]
  },
  {
   "cell_type": "code",
   "execution_count": 11,
   "metadata": {},
   "outputs": [],
   "source": [
    "def calibrar(model,x,y):\n",
    "    x_train, x_val, y_train, y_val = train_test_split(x,y,test_size=0.2, shuffle=True)\n",
    "    model.fit(x_train,y_train)\n",
    "    best_param = model.best_params_\n",
    "    best_model = model.best_estimator_\n",
    "    accuracy = best_model.score(x_val,y_val)\n",
    "    print(f\"El mejor k es: {best_param}, con una precision de: {accuracy} \")"
   ]
  },
  {
   "cell_type": "markdown",
   "metadata": {},
   "source": [
    "## Ejercicios"
   ]
  },
  {
   "cell_type": "markdown",
   "metadata": {},
   "source": [
    "### Ejercicio 1.b ¿Hay clases de prendas que son parecidas entre si?\n",
    "\n",
    "Cuando comparamos entre remaras y pantalones, la precision de clasificacion es mayor que cuando se intenta clasificar remeras y pullover. Por lo que clasificar los distintos tipos de prendas presenta cierta dificultad segun entre que prendas se compare. "
   ]
  },
  {
   "cell_type": "code",
   "execution_count": 12,
   "metadata": {},
   "outputs": [
    {
     "name": "stdout",
     "output_type": "stream",
     "text": [
      "La precision cuando se comparan remeras con pantalones es de : 0.6076666666666666\n"
     ]
    }
   ],
   "source": [
    "remYpants = df[(df['label'] == 1) | (df['label'] == 0)] #dataset de remeras y pantalones\n",
    "Y = remYpants['label']\n",
    "X = remYpants[['pixel1','pixel196','pixel350']] #solo le damos 3 pixeles para que entrene\n",
    "k = 5\n",
    "x_train, x_val, y_train, y_val = train_test_split(X,Y, test_size=0.2,shuffle=True)\n",
    "\n",
    "neigh = KNeighborsClassifier(n_neighbors=k)\n",
    "score1 = validacion_cruzada(neigh,X,Y,k)\n",
    "\n",
    "print(f\"La precision cuando se comparan remeras con pantalones es de : {np.mean(score1)}\")"
   ]
  },
  {
   "cell_type": "code",
   "execution_count": 13,
   "metadata": {},
   "outputs": [
    {
     "name": "stdout",
     "output_type": "stream",
     "text": [
      "La precision cuando se comparan remeras con pullovers es de : 0.5154166666666666\n"
     ]
    }
   ],
   "source": [
    "remYpull = df[(df['label']== 0) | (df['label']== 2)]\n",
    "X1 = remYpull[['pixel1','pixel196','pixel350']]\n",
    "Y1 = remYpull['label']\n",
    "\n",
    "x1_train, x1_val, y1_train, y1_val = train_test_split(X1,Y1, test_size=0.2, shuffle=True)\n",
    "\n",
    "neigh2 = KNeighborsClassifier(n_neighbors=k)\n",
    "score2 = validacion_cruzada(neigh2,X1,Y1,k)\n",
    "print(f\"La precision cuando se comparan remeras con pullovers es de : {np.mean(score2)}\")"
   ]
  },
  {
   "cell_type": "code",
   "execution_count": 14,
   "metadata": {},
   "outputs": [
    {
     "data": {
      "image/png": "[encoded data removed]",
      "text/plain": [
       "<Figure size 640x480 with 1 Axes>"
      ]
     },
     "metadata": {},
     "output_type": "display_data"
    }
   ],
   "source": [
    "graficarScores(score1,score2,k)"
   ]
  },
  {
   "cell_type": "markdown",
   "metadata": {},
   "source": [
    "### Ejercicio 2"
   ]
  },
  {
   "cell_type": "markdown",
   "metadata": {},
   "source": [
    "2.a) Creo los DataFrames de pantalones y remeras"
   ]
  },
  {
   "cell_type": "code",
   "execution_count": 15,
   "metadata": {},
   "outputs": [],
   "source": [
    "pantalones = df[df['label'] == 1].drop(columns='label')\n",
    "remeras = df[df['label'] == 0].drop(columns='label')"
   ]
  },
  {
   "cell_type": "markdown",
   "metadata": {},
   "source": [
    "2.b) Aca podemos ver que cada conjunto de datos de cada clase tiene la misma cantidad de muestras por lo que podemos decir que esta balanceado"
   ]
  },
  {
   "cell_type": "code",
   "execution_count": 16,
   "metadata": {},
   "outputs": [
    {
     "name": "stdout",
     "output_type": "stream",
     "text": [
      "Cantidad de muestras en pantalones:  6000\n",
      "Cantidad de muestras en remeras:  6000\n"
     ]
    }
   ],
   "source": [
    "print(\"Cantidad de muestras en pantalones: \", len(pantalones))\n",
    "print(\"Cantidad de muestras en remeras: \", len(remeras))"
   ]
  },
  {
   "cell_type": "markdown",
   "metadata": {},
   "source": [
    "2.c) Propusimos 3 conjuntos de 3 atributos distintos y 2 de 4 para comparar distintos modelos KNN. En la funcion `testearModelo()` se divide el data set en train y val y nos devuelve la precision de ese modelo. Se observa que el set de datos `Xd` que se compone de las columas `cols4` que representan la diagonal con 4 pixeles es la que mas precision consigue"
   ]
  },
  {
   "cell_type": "code",
   "execution_count": 17,
   "metadata": {},
   "outputs": [
    {
     "name": "stdout",
     "output_type": "stream",
     "text": [
      "La precision del modelo knn5 con el dataset Xa es de: 0.4841666666666667\n",
      "La precision del modelo knn5 con el dataset Xb es de: 0.8279166666666666\n",
      "La precision del modelo knn5 con el dataset Xc es de: 0.9158333333333334\n",
      "La precision del modelo knn5 con el dataset Xd es de: 0.93375\n",
      "La precision del modelo knn5 con el dataset Xf es de: 0.89125\n"
     ]
    }
   ],
   "source": [
    "#aca proponemos 5 conjunto de atributos distintos\n",
    "\n",
    "cols1 =['pixel1','pixel2','pixel3'] #primeros 3 pixeles de la esquina superior izquierda\n",
    "cols2 = ['pixel14','pixel210','pixel406'] # recta vertical en el medio de la imagen\n",
    "cols3 = ['pixel1','pixel175','pixel378'] # diagonal desdes esquina superior izquierda hasta esquina inferior derecha\n",
    "cols4 = ['pixel1','pixel175','pixel378','pixel581'] #diagonal con 1 pixel mas\n",
    "cols5 = ['pixel14','pixel210','pixel406','pixel602'] #Recta vertical con 1 pixel mas\n",
    "\n",
    "\n",
    "Xa = remYpants[cols1]\n",
    "Xb = remYpants[cols2]\n",
    "Xc = remYpants[cols3]\n",
    "Xd = remYpants[cols4]\n",
    "Xf = remYpants[cols5]\n",
    "Ys = remYpants['label']\n",
    "\n",
    "knn5 = KNeighborsClassifier(n_neighbors=5)\n",
    "\n",
    "#Aca testeo un modelo knn de 5 vecinos con los diferentes conjuntos de test\n",
    "print(f\"La precision del modelo knn5 con el dataset Xa es de: {testearModelo(knn5,Xa,Ys)}\")\n",
    "print(f\"La precision del modelo knn5 con el dataset Xb es de: {testearModelo(knn5,Xb,Ys)}\")\n",
    "print(f\"La precision del modelo knn5 con el dataset Xc es de: {testearModelo(knn5,Xc,Ys)}\")\n",
    "print(f\"La precision del modelo knn5 con el dataset Xd es de: {testearModelo(knn5,Xd,Ys)}\")\n",
    "print(f\"La precision del modelo knn5 con el dataset Xf es de: {testearModelo(knn5,Xf,Ys)}\")"
   ]
  },
  {
   "cell_type": "markdown",
   "metadata": {},
   "source": [
    "2.d) En este punto queremos calibrar los modelos que estuvimos comparando para con que hiperparametro conseguimos una mejor precision. Con la funcion `calibrar()` vamos calibrando el `grid_search` que inicializamos para que segun el set de datos presentado nos proporcione la cantidad de vecinos mas optima. Otra vez el modelo entrenado con el set de datos `Xd` es el que saca mas precision con "
   ]
  },
  {
   "cell_type": "code",
   "execution_count": 18,
   "metadata": {},
   "outputs": [
    {
     "name": "stdout",
     "output_type": "stream",
     "text": [
      "El mejor k es: {'n_neighbors': 5}, con una precision de: 0.5245833333333333 \n",
      "El mejor k es: {'n_neighbors': 15}, con una precision de: 0.8341666666666666 \n",
      "El mejor k es: {'n_neighbors': 30}, con una precision de: 0.9141666666666667 \n",
      "El mejor k es: {'n_neighbors': 12}, con una precision de: 0.9329166666666666 \n",
      "El mejor k es: {'n_neighbors': 7}, con una precision de: 0.8954166666666666 \n"
     ]
    }
   ],
   "source": [
    "knn = KNeighborsClassifier()\n",
    "hiper_grid = {'n_neighbors':[1,2,3,4,5,6,7,9,10,11,12,13,14,15,20,25,30]}\n",
    "\n",
    "grid_search = GridSearchCV(knn, hiper_grid, cv=4, scoring='accuracy')\n",
    "\n",
    "calibrar(grid_search,Xa,Ys)\n",
    "calibrar(grid_search,Xb,Ys)\n",
    "calibrar(grid_search,Xc,Ys)\n",
    "calibrar(grid_search,Xd,Ys)\n",
    "calibrar(grid_search,Xf,Ys)"
   ]
  },
  {
   "cell_type": "markdown",
   "metadata": {},
   "source": [
    "Para terminar testeamos el modelo elegido, un KNN con k=12 segun la calibracion de hiperparametros, entrenado con un set de datos que encontramos en https://www.kaggle.com/datasets/zalando-research/fashionmnist que es puntualmente para el testeo. Solo le pasamos el cojunto de columnas `cols4` que fue con el que mejor precision obtuvimos"
   ]
  },
  {
   "cell_type": "code",
   "execution_count": 21,
   "metadata": {},
   "outputs": [
    {
     "data": {
      "text/plain": [
       "0.935"
      ]
     },
     "execution_count": 21,
     "metadata": {},
     "output_type": "execute_result"
    }
   ],
   "source": [
    "remYpants_test = df_test[(df_test['label'] == 1) | (df_test['label'] == 0)]\n",
    "X_test = remYpants_test[cols4]\n",
    "Y_test = remYpants_test['label']\n",
    "k = 12\n",
    "\n",
    "knn_final = KNeighborsClassifier(n_neighbors=k)\n",
    "\n",
    "testearModelo(knn_final,X_test,Y_test)   "
   ]
  }
 ],
 "metadata": {
  "kernelspec": {
   "display_name": "base",
   "language": "python",
   "name": "python3"
  },
  "language_info": {
   "codemirror_mode": {
    "name": "ipython",
    "version": 3
   },
   "file_extension": ".py",
   "mimetype": "text/x-python",
   "name": "python",
   "nbconvert_exporter": "python",
   "pygments_lexer": "ipython3",
   "version": "3.11.5"
  }
 },
 "nbformat": 4,
 "nbformat_minor": 2
}
