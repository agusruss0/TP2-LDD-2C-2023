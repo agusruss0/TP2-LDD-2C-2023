{
 "cells": [
  {
   "cell_type": "code",
   "execution_count": 1,
   "metadata": {},
   "outputs": [],
   "source": [
    "import pandas as pd\n",
    "import numpy as np\n",
    "import matplotlib.pyplot as plt\n",
    "import seaborn as sns\n",
    "from sklearn.neighbors import KNeighborsClassifier\n",
    "from sklearn.tree import DecisionTreeClassifier, plot_tree\n",
    "from sklearn.model_selection import train_test_split, cross_val_score, GridSearchCV, KFold, RandomizedSearchCV\n",
    "from sklearn.metrics import classification_report, accuracy_score,r2_score\n",
    " "
   ]
  },
  {
   "cell_type": "code",
   "execution_count": 2,
   "metadata": {},
   "outputs": [
    {
     "data": {
      "text/html": [
       "<div>\n",
       "<style scoped>\n",
       "    .dataframe tbody tr th:only-of-type {\n",
       "        vertical-align: middle;\n",
       "    }\n",
       "\n",
       "    .dataframe tbody tr th {\n",
       "        vertical-align: top;\n",
       "    }\n",
       "\n",
       "    .dataframe thead th {\n",
       "        text-align: right;\n",
       "    }\n",
       "</style>\n",
       "<table border=\"1\" class=\"dataframe\">\n",
       "  <thead>\n",
       "    <tr style=\"text-align: right;\">\n",
       "      <th></th>\n",
       "      <th>label</th>\n",
       "      <th>pixel1</th>\n",
       "      <th>pixel2</th>\n",
       "      <th>pixel3</th>\n",
       "      <th>pixel4</th>\n",
       "      <th>pixel5</th>\n",
       "      <th>pixel6</th>\n",
       "      <th>pixel7</th>\n",
       "      <th>pixel8</th>\n",
       "      <th>pixel9</th>\n",
       "      <th>...</th>\n",
       "      <th>pixel775</th>\n",
       "      <th>pixel776</th>\n",
       "      <th>pixel777</th>\n",
       "      <th>pixel778</th>\n",
       "      <th>pixel779</th>\n",
       "      <th>pixel780</th>\n",
       "      <th>pixel781</th>\n",
       "      <th>pixel782</th>\n",
       "      <th>pixel783</th>\n",
       "      <th>pixel784</th>\n",
       "    </tr>\n",
       "  </thead>\n",
       "  <tbody>\n",
       "    <tr>\n",
       "      <th>0</th>\n",
       "      <td>2</td>\n",
       "      <td>0</td>\n",
       "      <td>0</td>\n",
       "      <td>0</td>\n",
       "      <td>0</td>\n",
       "      <td>0</td>\n",
       "      <td>0</td>\n",
       "      <td>0</td>\n",
       "      <td>0</td>\n",
       "      <td>0</td>\n",
       "      <td>...</td>\n",
       "      <td>0</td>\n",
       "      <td>0</td>\n",
       "      <td>0</td>\n",
       "      <td>0</td>\n",
       "      <td>0</td>\n",
       "      <td>0</td>\n",
       "      <td>0</td>\n",
       "      <td>0</td>\n",
       "      <td>0</td>\n",
       "      <td>0</td>\n",
       "    </tr>\n",
       "    <tr>\n",
       "      <th>1</th>\n",
       "      <td>9</td>\n",
       "      <td>0</td>\n",
       "      <td>0</td>\n",
       "      <td>0</td>\n",
       "      <td>0</td>\n",
       "      <td>0</td>\n",
       "      <td>0</td>\n",
       "      <td>0</td>\n",
       "      <td>0</td>\n",
       "      <td>0</td>\n",
       "      <td>...</td>\n",
       "      <td>0</td>\n",
       "      <td>0</td>\n",
       "      <td>0</td>\n",
       "      <td>0</td>\n",
       "      <td>0</td>\n",
       "      <td>0</td>\n",
       "      <td>0</td>\n",
       "      <td>0</td>\n",
       "      <td>0</td>\n",
       "      <td>0</td>\n",
       "    </tr>\n",
       "    <tr>\n",
       "      <th>2</th>\n",
       "      <td>6</td>\n",
       "      <td>0</td>\n",
       "      <td>0</td>\n",
       "      <td>0</td>\n",
       "      <td>0</td>\n",
       "      <td>0</td>\n",
       "      <td>0</td>\n",
       "      <td>0</td>\n",
       "      <td>5</td>\n",
       "      <td>0</td>\n",
       "      <td>...</td>\n",
       "      <td>0</td>\n",
       "      <td>0</td>\n",
       "      <td>0</td>\n",
       "      <td>30</td>\n",
       "      <td>43</td>\n",
       "      <td>0</td>\n",
       "      <td>0</td>\n",
       "      <td>0</td>\n",
       "      <td>0</td>\n",
       "      <td>0</td>\n",
       "    </tr>\n",
       "    <tr>\n",
       "      <th>3</th>\n",
       "      <td>0</td>\n",
       "      <td>0</td>\n",
       "      <td>0</td>\n",
       "      <td>0</td>\n",
       "      <td>1</td>\n",
       "      <td>2</td>\n",
       "      <td>0</td>\n",
       "      <td>0</td>\n",
       "      <td>0</td>\n",
       "      <td>0</td>\n",
       "      <td>...</td>\n",
       "      <td>3</td>\n",
       "      <td>0</td>\n",
       "      <td>0</td>\n",
       "      <td>0</td>\n",
       "      <td>0</td>\n",
       "      <td>1</td>\n",
       "      <td>0</td>\n",
       "      <td>0</td>\n",
       "      <td>0</td>\n",
       "      <td>0</td>\n",
       "    </tr>\n",
       "    <tr>\n",
       "      <th>4</th>\n",
       "      <td>3</td>\n",
       "      <td>0</td>\n",
       "      <td>0</td>\n",
       "      <td>0</td>\n",
       "      <td>0</td>\n",
       "      <td>0</td>\n",
       "      <td>0</td>\n",
       "      <td>0</td>\n",
       "      <td>0</td>\n",
       "      <td>0</td>\n",
       "      <td>...</td>\n",
       "      <td>0</td>\n",
       "      <td>0</td>\n",
       "      <td>0</td>\n",
       "      <td>0</td>\n",
       "      <td>0</td>\n",
       "      <td>0</td>\n",
       "      <td>0</td>\n",
       "      <td>0</td>\n",
       "      <td>0</td>\n",
       "      <td>0</td>\n",
       "    </tr>\n",
       "  </tbody>\n",
       "</table>\n",
       "<p>5 rows × 785 columns</p>\n",
       "</div>"
      ],
      "text/plain": [
       "   label  pixel1  pixel2  pixel3  pixel4  pixel5  pixel6  pixel7  pixel8  \\\n",
       "0      2       0       0       0       0       0       0       0       0   \n",
       "1      9       0       0       0       0       0       0       0       0   \n",
       "2      6       0       0       0       0       0       0       0       5   \n",
       "3      0       0       0       0       1       2       0       0       0   \n",
       "4      3       0       0       0       0       0       0       0       0   \n",
       "\n",
       "   pixel9  ...  pixel775  pixel776  pixel777  pixel778  pixel779  pixel780  \\\n",
       "0       0  ...         0         0         0         0         0         0   \n",
       "1       0  ...         0         0         0         0         0         0   \n",
       "2       0  ...         0         0         0        30        43         0   \n",
       "3       0  ...         3         0         0         0         0         1   \n",
       "4       0  ...         0         0         0         0         0         0   \n",
       "\n",
       "   pixel781  pixel782  pixel783  pixel784  \n",
       "0         0         0         0         0  \n",
       "1         0         0         0         0  \n",
       "2         0         0         0         0  \n",
       "3         0         0         0         0  \n",
       "4         0         0         0         0  \n",
       "\n",
       "[5 rows x 785 columns]"
      ]
     },
     "execution_count": 2,
     "metadata": {},
     "output_type": "execute_result"
    }
   ],
   "source": [
    "path = \"fashion-mnist.csv\"\n",
    "path_test = \"fashion-mnist_test.csv\"\n",
    "\n",
    "df = pd.read_csv(path) #Dataset dado por la catedra\n",
    "df_test = pd.read_csv(path_test) #Dataset de testeo\n",
    "df.head()"
   ]
  },
  {
   "cell_type": "markdown",
   "metadata": {},
   "source": [
    "## Funciones"
   ]
  },
  {
   "cell_type": "markdown",
   "metadata": {},
   "source": [
    "Funcion para ver alguna imagen de la clase elegida"
   ]
  },
  {
   "cell_type": "code",
   "execution_count": 35,
   "metadata": {},
   "outputs": [
    {
     "data": {
      "image/png": "[encoded data removed]",
      "text/plain": [
       "<Figure size 640x480 with 1 Axes>"
      ]
     },
     "metadata": {},
     "output_type": "display_data"
    }
   ],
   "source": [
    "def mostrarImagenDe (label: int):\n",
    "    clase = df[df['label'] == label].drop(columns='label')\n",
    "    imagen = clase.iloc[np.random.randint(0,6000)].values.reshape(28,28)\n",
    "    sns.heatmap(data=imagen, cmap='gray',cbar=False, square=True,annot=False,xticklabels=[],yticklabels=[])\n",
    "    plt.show()\n",
    "    plt.close()\n",
    "\n",
    "mostrarImagenDe(0)"
   ]
  },
  {
   "cell_type": "markdown",
   "metadata": {},
   "source": [
    "Funcion que me devuelve la imagen promedio de una clase en particular"
   ]
  },
  {
   "cell_type": "code",
   "execution_count": 26,
   "metadata": {},
   "outputs": [
    {
     "data": {
      "image/png": "[encoded data removed]",
      "text/plain": [
       "<Figure size 640x480 with 1 Axes>"
      ]
     },
     "metadata": {},
     "output_type": "display_data"
    }
   ],
   "source": [
    "def promedioImagen(prenda:int):\n",
    "    clase = df[df['label']== prenda].drop(columns='label')\n",
    "    promedio_imagen = np.mean(clase.values,axis=0)\n",
    "    promedio_imagen /= len(df[df['label']  == prenda])\n",
    "    promedio_imagen = promedio_imagen.reshape(28,28)\n",
    "    sns.heatmap(data=promedio_imagen, cmap='gray',cbar=False, xticklabels=[],yticklabels=[])\n",
    "    \n",
    "promedioImagen(2)"
   ]
  },
  {
   "cell_type": "markdown",
   "metadata": {},
   "source": [
    "Graficar Scores"
   ]
  },
  {
   "cell_type": "code",
   "execution_count": 27,
   "metadata": {},
   "outputs": [],
   "source": [
    "def graficarScores(scores1, scores2,k):\n",
    "    k_fold = [f'Pliegue {i+1}' for i in range(k)]*2\n",
    "    data = {\n",
    "        'Fold': k_fold,\n",
    "        'Modelo': ['Rem y Pant']*k + ['Rem y Pull']*k,\n",
    "        'Precisión': np.concatenate((scores1,scores2))\n",
    "    }\n",
    "    df = pd.DataFrame(data)\n",
    "\n",
    "    plt.figure(figsize=(10,6))\n",
    "    sns.barplot(data=df,x='Fold',y='Precisión', hue='Modelo')\n",
    "    plt.xlabel('Plieges')\n",
    "    plt.ylabel('Precisión')\n",
    "    plt.title('Comparacion de precisión entres remeras con pantalones y remeras con pullovers')\n",
    "    plt.legend(title='Modelos')\n",
    "    plt.show()\n",
    "    plt.close()"
   ]
  },
  {
   "cell_type": "markdown",
   "metadata": {},
   "source": [
    "Validacion Cruzada"
   ]
  },
  {
   "cell_type": "code",
   "execution_count": 23,
   "metadata": {},
   "outputs": [],
   "source": [
    "def validacion_cruzada(model,X,Y,K):\n",
    "    cv = KFold(n_splits=K,shuffle=True,random_state=42)\n",
    "    scores = cross_val_score(model,X,Y, cv=cv, scoring='accuracy')\n",
    "    return scores"
   ]
  },
  {
   "cell_type": "markdown",
   "metadata": {},
   "source": [
    "Testeo de modelos segun set de datos de entrenamiento"
   ]
  },
  {
   "cell_type": "code",
   "execution_count": 25,
   "metadata": {},
   "outputs": [],
   "source": [
    "def testearModelo (modelo,x,y):\n",
    "    x_train, x_val, y_train, y_val = train_test_split(x,y,test_size=0.2, shuffle=True) #Aca separo el dataset en train y val\n",
    "    modelo.fit(x_train, y_train)\n",
    "    y_predict = modelo.predict(x_val)\n",
    "    return accuracy_score(y_val,y_predict)"
   ]
  },
  {
   "cell_type": "markdown",
   "metadata": {},
   "source": [
    "Calibracion de modelos"
   ]
  },
  {
   "cell_type": "code",
   "execution_count": 24,
   "metadata": {},
   "outputs": [],
   "source": [
    "def calibrar(model,x,y):\n",
    "    x_train, x_val, y_train, y_val = train_test_split(x,y,test_size=0.2, shuffle=True)\n",
    "    model.fit(x_train,y_train)\n",
    "    best_param = model.best_params_\n",
    "    best_model = model.best_estimator_\n",
    "    accuracy = best_model.score(x_val,y_val)\n",
    "    print(f\"El mejor k es: {best_param}, con una precision de: {accuracy} \")"
   ]
  },
  {
   "cell_type": "markdown",
   "metadata": {},
   "source": [
    "## Ejercicios"
   ]
  },
  {
   "cell_type": "markdown",
   "metadata": {},
   "source": [
    "### Ejercicio 1.b ¿Hay clases de prendas que son parecidas entre si?\n",
    "\n",
    "Cuando comparamos entre remaras y pantalones, la precision de clasificacion es mayor que cuando se intenta clasificar remeras y pullover. Por lo que clasificar los distintos tipos de prendas presenta cierta dificultad segun entre que prendas se compare. "
   ]
  },
  {
   "cell_type": "code",
   "execution_count": 28,
   "metadata": {},
   "outputs": [
    {
     "name": "stdout",
     "output_type": "stream",
     "text": [
      "La precision cuando se comparan remeras con pantalones es de : 0.6076666666666666\n"
     ]
    }
   ],
   "source": [
    "remYpants = df[(df['label'] == 1) | (df['label'] == 0)] #dataset de remeras y pantalones\n",
    "Y = remYpants['label']\n",
    "X = remYpants[['pixel1','pixel196','pixel350']] #solo le damos 3 pixeles para que entrene\n",
    "k = 5\n",
    "x_train, x_val, y_train, y_val = train_test_split(X,Y, test_size=0.2,shuffle=True)\n",
    "\n",
    "neigh = KNeighborsClassifier(n_neighbors=k)\n",
    "score1 = validacion_cruzada(neigh,X,Y,k)\n",
    "\n",
    "print(f\"La precision cuando se comparan remeras con pantalones es de : {np.mean(score1)}\")"
   ]
  },
  {
   "cell_type": "code",
   "execution_count": 29,
   "metadata": {},
   "outputs": [
    {
     "name": "stdout",
     "output_type": "stream",
     "text": [
      "La precision cuando se comparan remeras con pullovers es de : 0.5154166666666666\n"
     ]
    }
   ],
   "source": [
    "remYpull = df[(df['label']== 0) | (df['label']== 2)]\n",
    "X1 = remYpull[['pixel1','pixel196','pixel350']]\n",
    "Y1 = remYpull['label']\n",
    "\n",
    "x1_train, x1_val, y1_train, y1_val = train_test_split(X1,Y1, test_size=0.2, shuffle=True)\n",
    "\n",
    "neigh2 = KNeighborsClassifier(n_neighbors=k)\n",
    "score2 = validacion_cruzada(neigh2,X1,Y1,k)\n",
    "print(f\"La precision cuando se comparan remeras con pullovers es de : {np.mean(score2)}\")"
   ]
  },
  {
   "cell_type": "code",
   "execution_count": 30,
   "metadata": {},
   "outputs": [
    {
     "data": {
      "image/png": "[encoded data removed]",
      "text/plain": [
       "<Figure size 1000x600 with 1 Axes>"
      ]
     },
     "metadata": {},
     "output_type": "display_data"
    }
   ],
   "source": [
    "graficarScores(score1,score2,k)"
   ]
  },
  {
   "cell_type": "markdown",
   "metadata": {},
   "source": [
    "### Ejercicio 2"
   ]
  },
  {
   "cell_type": "markdown",
   "metadata": {},
   "source": [
    "2.a) Creo los DataFrames de pantalones y remeras"
   ]
  },
  {
   "cell_type": "code",
   "execution_count": 31,
   "metadata": {},
   "outputs": [],
   "source": [
    "pantalones = df[df['label'] == 1].drop(columns='label')\n",
    "remeras = df[df['label'] == 0].drop(columns='label')"
   ]
  },
  {
   "cell_type": "markdown",
   "metadata": {},
   "source": [
    "2.b) Aca podemos ver que cada conjunto de datos de cada clase tiene la misma cantidad de muestras por lo que podemos decir que esta balanceado"
   ]
  },
  {
   "cell_type": "code",
   "execution_count": 45,
   "metadata": {},
   "outputs": [
    {
     "name": "stdout",
     "output_type": "stream",
     "text": [
      "Cantidad de muestras en pantalones:  6000\n",
      "Cantidad de muestras en remeras:  6000\n"
     ]
    }
   ],
   "source": [
    "print(\"Cantidad de muestras en pantalones: \", len(pantalones))\n",
    "print(\"Cantidad de muestras en remeras: \", len(remeras))"
   ]
  },
  {
   "cell_type": "markdown",
   "metadata": {},
   "source": [
    "2.c) Propusimos 3 conjuntos de 3 atributos distintos y 2 de 4 para comparar distintos modelos KNN. En la funcion `testearModelo()` se divide el data set en train y val y nos devuelve la precision de ese modelo. Se observa que el set de datos `Xd` que se compone de las columas `cols4` que representan la diagonal con 4 pixeles ya consigue una precision muy buena. Cuando se entrena con todas las columnas el modelo consigue una precision casi perfecta"
   ]
  },
  {
   "cell_type": "code",
   "execution_count": 32,
   "metadata": {},
   "outputs": [
    {
     "name": "stdout",
     "output_type": "stream",
     "text": [
      "La precision del modelo knn5 con el dataset Xa es de: 0.5370833333333334\n",
      "La precision del modelo knn5 con el dataset Xb es de: 0.8220833333333334\n",
      "La precision del modelo knn5 con el dataset Xc es de: 0.9104166666666667\n",
      "La precision del modelo knn5 con el dataset Xd es de: 0.9291666666666667\n",
      "La precision del modelo knn5 con el dataset Xf es de: 0.89\n",
      "La precision del modelo knn5 con el dataset Xf es de: 0.9879166666666667\n"
     ]
    }
   ],
   "source": [
    "#aca proponemos 5 conjunto de atributos distintos\n",
    "\n",
    "cols1 =['pixel1','pixel2','pixel3'] #primeros 3 pixeles de la esquina superior izquierda\n",
    "cols2 = ['pixel14','pixel210','pixel406'] # recta vertical en el medio de la imagen\n",
    "cols3 = ['pixel1','pixel175','pixel378'] # diagonal desdes esquina superior izquierda hasta esquina inferior derecha\n",
    "cols4 = ['pixel1','pixel175','pixel378','pixel581'] #diagonal con 1 pixel mas\n",
    "cols5 = ['pixel14','pixel210','pixel406','pixel602'] #Recta vertical con 1 pixel mas\n",
    "\n",
    "\n",
    "Xa = remYpants[cols1]\n",
    "Xb = remYpants[cols2]\n",
    "Xc = remYpants[cols3]\n",
    "Xd = remYpants[cols4]\n",
    "Xf = remYpants[cols5]\n",
    "Xg = remYpants.drop(columns='label') # Set de entrenamiento con todas las columnas de pixeles\n",
    "Ys = remYpants['label']\n",
    "\n",
    "knn5 = KNeighborsClassifier(n_neighbors=5)\n",
    "\n",
    "#Aca testeo un modelo knn de 5 vecinos con los diferentes conjuntos de test\n",
    "print(f\"La precision del modelo knn5 con el dataset Xa es de: {testearModelo(knn5,Xa,Ys)}\")\n",
    "print(f\"La precision del modelo knn5 con el dataset Xb es de: {testearModelo(knn5,Xb,Ys)}\")\n",
    "print(f\"La precision del modelo knn5 con el dataset Xc es de: {testearModelo(knn5,Xc,Ys)}\")\n",
    "print(f\"La precision del modelo knn5 con el dataset Xd es de: {testearModelo(knn5,Xd,Ys)}\")\n",
    "print(f\"La precision del modelo knn5 con el dataset Xf es de: {testearModelo(knn5,Xf,Ys)}\")\n",
    "print(f\"La precision del modelo knn5 con el dataset Xf es de: {testearModelo(knn5,Xg,Ys)}\")"
   ]
  },
  {
   "cell_type": "markdown",
   "metadata": {},
   "source": [
    "2.d) En este punto queremos calibrar los modelos que estuvimos comparando para con que hiperparametro conseguimos una mejor precision. Con la funcion `calibrar()` vamos calibrando el `grid_search` que inicializamos para que segun el set de datos presentado nos proporcione la cantidad de vecinos mas optima. Otra vez el modelo entrenado con el set de datos `Xd` es el que saca mas precision con "
   ]
  },
  {
   "cell_type": "code",
   "execution_count": 47,
   "metadata": {},
   "outputs": [
    {
     "name": "stdout",
     "output_type": "stream",
     "text": [
      "El mejor k es: {'n_neighbors': 1}, con una precision de: 0.5341666666666667 \n",
      "El mejor k es: {'n_neighbors': 15}, con una precision de: 0.8375 \n",
      "El mejor k es: {'n_neighbors': 13}, con una precision de: 0.9191666666666667 \n",
      "El mejor k es: {'n_neighbors': 6}, con una precision de: 0.93125 \n",
      "El mejor k es: {'n_neighbors': 7}, con una precision de: 0.90375 \n"
     ]
    }
   ],
   "source": [
    "knn = KNeighborsClassifier()\n",
    "hiper_grid = {'n_neighbors':[1,2,3,4,5,6,7,9,10,11,12,13,14,15,20,25,30]}\n",
    "\n",
    "grid_search = GridSearchCV(knn, hiper_grid, cv=4, scoring='accuracy')\n",
    "\n",
    "calibrar(grid_search,Xa,Ys)\n",
    "calibrar(grid_search,Xb,Ys)\n",
    "calibrar(grid_search,Xc,Ys)\n",
    "calibrar(grid_search,Xd,Ys)\n",
    "calibrar(grid_search,Xf,Ys)"
   ]
  },
  {
   "cell_type": "markdown",
   "metadata": {},
   "source": [
    "Para terminar testeamos el modelo elegido, un KNN con k=12 segun la calibracion de hiperparametros, entrenado con todo el set de entreamiento de datos que mejor precision nos devolvio, en este caso el conjunto `cols4`. Para hacer la prediccion utilizamos el set de datos de test que conseguimos https://www.kaggle.com/datasets/zalando-research/fashionmnist a modo de holdout."
   ]
  },
  {
   "cell_type": "code",
   "execution_count": 34,
   "metadata": {},
   "outputs": [
    {
     "name": "stdout",
     "output_type": "stream",
     "text": [
      "La precision dle modelo final con k=12 entredado con el conjunto de training (Xd,Ys) es de: 0.9385\n"
     ]
    }
   ],
   "source": [
    "knn = KNeighborsClassifier()\n",
    "remYpants_test = df_test[(df_test['label'] == 1) | (df_test['label'] == 0)]\n",
    "X_test = remYpants_test[cols4]\n",
    "Y_test = remYpants_test['label']\n",
    "k = 12\n",
    "\n",
    "knn_final = KNeighborsClassifier(n_neighbors=k)\n",
    "knn.fit (Xd, Ys) # Entreno el modelo final con todo el set de la diagonal de 4 pixeles\n",
    "y_predict_final = knn.predict(X_test) # Hago la prediccion final sobre el set de datos de testeo\n",
    "\n",
    "print(f\"La precision dle modelo final con k=12 entredado con el conjunto de training (Xd,Ys) es de: {accuracy_score(Y_test, y_predict_final)}\")"
   ]
  },
  {
   "cell_type": "markdown",
   "metadata": {},
   "source": [
    "### Ejercicio 3"
   ]
  },
  {
   "cell_type": "markdown",
   "metadata": {},
   "source": [
    "3.a) Dado que decidimos usar un nuevo set para la evaluacion del modelo omitimos elte paso"
   ]
  },
  {
   "cell_type": "markdown",
   "metadata": {},
   "source": [
    "3.b) Separamos el dataset para analizar distintas profundidades de arboles"
   ]
  },
  {
   "cell_type": "code",
   "execution_count": 3,
   "metadata": {},
   "outputs": [],
   "source": [
    "X = df.drop([\"label\"], axis=1)\n",
    "Y = df[['label']]"
   ]
  },
  {
   "cell_type": "code",
   "execution_count": 50,
   "metadata": {},
   "outputs": [
    {
     "name": "stdout",
     "output_type": "stream",
     "text": [
      "{'max_depth': 14, 'criterion': 'gini'}\n",
      "0.81335\n"
     ]
    }
   ],
   "source": [
    "tree = DecisionTreeClassifier()\n",
    "hyper_params = {\n",
    "    'criterion' : [\"gini\", \"entropy\"],\n",
    "    'max_depth' : [5,8,10,12,14,15,20,25,30]\n",
    "    }\n",
    "clf = RandomizedSearchCV(tree, hyper_params, random_state=0)\n",
    "search = clf.fit(X, Y)\n",
    "print(search.best_params_)\n",
    "print(search.best_score_)"
   ]
  },
  {
   "cell_type": "markdown",
   "metadata": {},
   "source": [
    "dados los mejores parametros para el arbol de decision, usamos profundidades cercanas para evaluarlos con kfolding"
   ]
  },
  {
   "cell_type": "code",
   "execution_count": 51,
   "metadata": {},
   "outputs": [],
   "source": [
    "#usamos 5 folds\n",
    "k = 5\n",
    "tree1 = DecisionTreeClassifier(max_depth=13, criterion=\"gini\")\n",
    "tree2 = DecisionTreeClassifier(max_depth=14, criterion=\"gini\")\n",
    "tree3 = DecisionTreeClassifier(max_depth=15, criterion=\"gini\")\n",
    "score1 = validacion_cruzada(tree1, X, Y, k)\n",
    "score2 = validacion_cruzada(tree2, X, Y, k)\n",
    "score3 = validacion_cruzada(tree3, X, Y, k)"
   ]
  },
  {
   "cell_type": "code",
   "execution_count": 52,
   "metadata": {},
   "outputs": [
    {
     "name": "stdout",
     "output_type": "stream",
     "text": [
      "score tree1 profundidad 13 0.8120166666666666\n",
      "score tree2 profundidad 14 0.8104666666666667\n",
      "score tree3 profundidad 15 0.8093999999999999\n"
     ]
    }
   ],
   "source": [
    "print(f\"score tree1 profundidad 13 {np.mean(score1)}\")\n",
    "print(f\"score tree2 profundidad 14 {np.mean(score2)}\")\n",
    "print(f\"score tree3 profundidad 15 {np.mean(score3)}\")"
   ]
  },
  {
   "cell_type": "markdown",
   "metadata": {},
   "source": [
    "Nuestros mejores criterios fueron max depth 13, criterion gini"
   ]
  },
  {
   "cell_type": "markdown",
   "metadata": {},
   "source": [
    "Para terminar testeamos el modelo con un set de datos que encontramos en https://www.kaggle.com/datasets/zalando-research/fashionmnist que es puntualmente para el testeo"
   ]
  },
  {
   "cell_type": "code",
   "execution_count": 53,
   "metadata": {},
   "outputs": [],
   "source": [
    "best_criterion = \"gini\"\n",
    "best_depth = 13\n",
    "\n",
    "X_eval, Y_eval = df_test.drop(columns=[\"label\"]), df_test[[\"label\"]]\n",
    "\n",
    "dtc = DecisionTreeClassifier(max_depth=best_depth, criterion=best_criterion)\n",
    "dtc.fit(X, Y)\n",
    "pred = dtc.predict(X_eval)"
   ]
  },
  {
   "cell_type": "code",
   "execution_count": 54,
   "metadata": {},
   "outputs": [
    {
     "name": "stdout",
     "output_type": "stream",
     "text": [
      "accscore: 0.818\n",
      "              precision    recall  f1-score   support\n",
      "\n",
      "           0       0.76      0.78      0.77      1000\n",
      "           1       0.97      0.96      0.96      1000\n",
      "           2       0.72      0.70      0.71      1000\n",
      "           3       0.87      0.83      0.85      1000\n",
      "           4       0.68      0.77      0.72      1000\n",
      "           5       0.91      0.88      0.90      1000\n",
      "           6       0.59      0.56      0.57      1000\n",
      "           7       0.88      0.89      0.88      1000\n",
      "           8       0.93      0.92      0.92      1000\n",
      "           9       0.90      0.91      0.90      1000\n",
      "\n",
      "    accuracy                           0.82     10000\n",
      "   macro avg       0.82      0.82      0.82     10000\n",
      "weighted avg       0.82      0.82      0.82     10000\n",
      "\n"
     ]
    }
   ],
   "source": [
    "classrep = classification_report(Y_eval, pred)\n",
    "accscore = accuracy_score(Y_eval, pred)\n",
    "\n",
    "print(f\"accscore: {accscore}\")\n",
    "\n",
    "print(classrep)"
   ]
  },
  {
   "cell_type": "code",
   "execution_count": 19,
   "metadata": {},
   "outputs": [
    {
     "data": {
      "text/plain": [
       "<Axes: xlabel='label'>"
      ]
     },
     "execution_count": 19,
     "metadata": {},
     "output_type": "execute_result"
    },
    {
     "data": {
      "image/png": "[encoded data removed]",
      "text/plain": [
       "<Figure size 640x480 with 1 Axes>"
      ]
     },
     "metadata": {},
     "output_type": "display_data"
    }
   ],
   "source": [
    "labels = [\"label\", \"precision\", \"recall\", \"f1-score\", \"support\"]\n",
    "data = [[\"T-shirt/top\", 0.76, 0.78, 0.77, 1000],\n",
    "        [\"Trouser\",     0.97, 0.96, 0.96, 1000],\n",
    "        [\"Pullover\",    0.72, 0.70, 0.71, 1000],\n",
    "        [\"Dress\",       0.87, 0.83, 0.85, 1000],\n",
    "        [\"Coat\",        0.68, 0.77, 0.72, 1000],\n",
    "        [\"Sandal\",      0.91, 0.88, 0.90, 1000],\n",
    "        [\"Shirt\",       0.59, 0.56, 0.57, 1000],\n",
    "        [\"Sneaker\",     0.88, 0.89, 0.88, 1000],\n",
    "        [\"Bag\",         0.93, 0.92, 0.92, 1000],\n",
    "        [\"Ankle boot\",  0.90, 0.91, 0.90, 1000]]\n",
    "\n",
    "reporte = pd.DataFrame(data=data, columns = labels)\n",
    "reporte.drop(columns=[\"f1-score\",\"support\"]).plot(kind=\"bar\", x=\"label\", rot=25)"
   ]
  },
  {
   "cell_type": "code",
   "execution_count": null,
   "metadata": {},
   "outputs": [],
   "source": [
    "reporte.drop(index=[], columns=[\"f1-score\",\"support\"]).plot(kind=\"bar\", x=\"label\", rot=25)"
   ]
  },
  {
   "cell_type": "code",
   "execution_count": 35,
   "metadata": {},
   "outputs": [
    {
     "name": "stdout",
     "output_type": "stream",
     "text": [
      "              precision    recall  f1-score   support\n",
      "\n",
      "           0       0.93      0.94      0.94      1000\n",
      "           1       0.94      0.93      0.94      1000\n",
      "\n",
      "    accuracy                           0.94      2000\n",
      "   macro avg       0.94      0.94      0.94      2000\n",
      "weighted avg       0.94      0.94      0.94      2000\n",
      "\n"
     ]
    }
   ],
   "source": [
    "classrep = classification_report(Y_test, y_predict_final)\n",
    "print(classrep)"
   ]
  }
 ],
 "metadata": {
  "kernelspec": {
   "display_name": "base",
   "language": "python",
   "name": "python3"
  },
  "language_info": {
   "codemirror_mode": {
    "name": "ipython",
    "version": 3
   },
   "file_extension": ".py",
   "mimetype": "text/x-python",
   "name": "python",
   "nbconvert_exporter": "python",
   "pygments_lexer": "ipython3",
   "version": "3.10.4"
  }
 },
 "nbformat": 4,
 "nbformat_minor": 2
}
